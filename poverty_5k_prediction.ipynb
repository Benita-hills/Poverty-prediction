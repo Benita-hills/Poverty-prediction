{
  "nbformat": 4,
  "nbformat_minor": 0,
  "metadata": {
    "colab": {
      "provenance": [],
      "mount_file_id": "1Om19OpKAdACnjAJcYdJ_0Leb61s6rf7j",
      "authorship_tag": "ABX9TyN0Oeww4pEkcgGnDGxgtKrO",
      "include_colab_link": true
    },
    "kernelspec": {
      "name": "python3",
      "display_name": "Python 3"
    },
    "language_info": {
      "name": "python"
    }
  },
  "cells": [
    {
      "cell_type": "markdown",
      "metadata": {
        "id": "view-in-github",
        "colab_type": "text"
      },
      "source": [
        "<a href=\"https://colab.research.google.com/github/Benita-hills/Poverty-prediction/blob/main/poverty_5k_prediction.ipynb\" target=\"_parent\"><img src=\"https://colab.research.google.com/assets/colab-badge.svg\" alt=\"Open In Colab\"/></a>"
      ]
    },
    {
      "cell_type": "code",
      "execution_count": 21,
      "metadata": {
        "id": "uA8nOAs2uw8d"
      },
      "outputs": [],
      "source": [
        "import pandas as pd\n",
        "import numpy as np\n",
        "from sklearn.model_selection import train_test_split\n",
        "from sklearn.ensemble import RandomForestClassifier\n",
        "from sklearn.metrics import accuracy_score, precision_score, recall_score, f1_score, confusion_matrix"
      ]
    },
    {
      "cell_type": "code",
      "source": [
        "def load_and_preprocess_data(file_path):\n",
        "    # Your code for loading and processing the data\n",
        "    df = pd.read_excel(file_path)\n",
        "    # Continue with the rest of the preprocessing logic\n",
        "    return df\n"
      ],
      "metadata": {
        "id": "_laD3RBbv-ks"
      },
      "execution_count": 22,
      "outputs": []
    },
    {
      "cell_type": "code",
      "source": [
        "file_path = \"/content/5000 poverty rprediction.xlsx\"\n",
        "df = load_and_preprocess_data(file_path)\n",
        "\n"
      ],
      "metadata": {
        "id": "8ZokdQVRxVgs"
      },
      "execution_count": 23,
      "outputs": []
    },
    {
      "cell_type": "code",
      "source": [
        "print(df.isnull().sum())"
      ],
      "metadata": {
        "colab": {
          "base_uri": "https://localhost:8080/"
        },
        "id": "UZeLjYP9Ouok",
        "outputId": "f1cb04fc-9bb6-4be4-f5d5-45b977fca3e6"
      },
      "execution_count": 24,
      "outputs": [
        {
          "output_type": "stream",
          "name": "stdout",
          "text": [
            "hhid                                   0\n",
            "sector                                 0\n",
            "zone                                   0\n",
            "state                                  0\n",
            "lga                                    0\n",
            "Gender                                 0\n",
            "Educational Level                      0\n",
            "hhsize                                 0\n",
            "Marital status                         0\n",
            "Occupation type                        0\n",
            "Year of birth                          0\n",
            "Housing Types                          0\n",
            "Roofing materia                        0\n",
            "Cookstove type                         0\n",
            "Access to electricity                  0\n",
            "Main Source of Electricity          4197\n",
            "Income source                          0\n",
            "income type                            0\n",
            "wt_final                               0\n",
            "popw                                   0\n",
            "Spending on food Items                 0\n",
            "Spending on food items purchased       0\n",
            "Spending on non food items             0\n",
            "totcons_pc                             0\n",
            "Consumption per capita                 0\n",
            "dtype: int64\n"
          ]
        }
      ]
    },
    {
      "cell_type": "code",
      "source": [
        "# Replace all non-numeric values (like '-') with NaN (Not a Number)\n",
        "df.replace('-', np.nan, inplace=True)\n",
        "\n",
        "# Convert the column to numeric, forcing any non-numeric values to NaN\n",
        "df = df.apply(pd.to_numeric, errors='coerce')\n",
        "\n",
        "# After replacement, handle missing values using the median (or any other method)\n",
        "df.fillna(df.median(), inplace=True)\n"
      ],
      "metadata": {
        "colab": {
          "base_uri": "https://localhost:8080/"
        },
        "id": "b-otZ44QNxh9",
        "outputId": "db48f271-01d8-45de-c8a7-a0204b6ec7c4"
      },
      "execution_count": 26,
      "outputs": [
        {
          "output_type": "stream",
          "name": "stderr",
          "text": [
            "<ipython-input-26-d95eab3407e2>:2: FutureWarning: Downcasting behavior in `replace` is deprecated and will be removed in a future version. To retain the old behavior, explicitly call `result.infer_objects(copy=False)`. To opt-in to the future behavior, set `pd.set_option('future.no_silent_downcasting', True)`\n",
            "  df.replace('-', np.nan, inplace=True)\n"
          ]
        }
      ]
    },
    {
      "cell_type": "code",
      "source": [
        "def detect_outliers_iqr(df, feature):\n",
        "    # Calculate the Q1 (25th percentile) and Q3 (75th percentile)\n",
        "    Q1 = df[feature].quantile(0.25)\n",
        "    Q3 = df[feature].quantile(0.75)\n",
        "\n",
        "    # Calculate the Interquartile Range (IQR)\n",
        "    IQR = Q3 - Q1\n",
        "\n",
        "    # Calculate the lower and upper bounds for outliers\n",
        "    lower_bound = Q1 - 1.5 * IQR\n",
        "    upper_bound = Q3 + 1.5 * IQR\n",
        "\n",
        "    # Return a boolean series that marks outliers (True for outliers)\n",
        "    return (df[feature] < lower_bound) | (df[feature] > upper_bound)\n",
        "\n",
        "# Apply the IQR outlier detection for all numerical columns in the dataset\n",
        "numerical_columns = df.select_dtypes(include=[np.number]).columns\n",
        "\n",
        "outliers = pd.DataFrame()\n",
        "\n",
        "for col in numerical_columns:\n",
        "    outliers[col] = detect_outliers_iqr(df, col)\n",
        "\n",
        "# Display rows where there are outliers\n",
        "outlier_rows = df[outliers.any(axis=1)]\n",
        "print(\"\\nOutlier rows detected:\")\n",
        "print(outlier_rows)\n",
        "\n",
        "# Count of outliers in each column\n",
        "print(\"\\nCount of outliers in each column:\")\n",
        "print(outliers.sum())"
      ],
      "metadata": {
        "colab": {
          "base_uri": "https://localhost:8080/"
        },
        "id": "7kexawuTS9KT",
        "outputId": "94702dd8-1215-4dc4-a2b6-423e1bfe7321"
      },
      "execution_count": 27,
      "outputs": [
        {
          "output_type": "stream",
          "name": "stdout",
          "text": [
            "\n",
            "Outlier rows detected:\n",
            "         hhid  sector  zone  state   lga  Gender  Educational Level  hhsize  \\\n",
            "0      111074       1     4      1   111       1                  8       3   \n",
            "1      111077       1     4      1   111       1                  0       3   \n",
            "2      111075       1     4      1   111       1                  6       7   \n",
            "3      111079       1     4      1   111       1                  6       3   \n",
            "4      111071       1     4      1   111       1                  2       8   \n",
            "...       ...     ...   ...    ...   ...     ...                ...     ...   \n",
            "4994  3318096       2     3     33  3318       1                  1       4   \n",
            "4995  3410098       2     2     34  3410       1                  6       1   \n",
            "4996  3410096       2     2     34  3410       1                  6       2   \n",
            "4997  3401009       2     2     34  3401       1                  6       6   \n",
            "4998  3401004       2     2     34  3401       1                  0      12   \n",
            "\n",
            "      Marital status  Occupation type  ...  Main Source of Electricity  \\\n",
            "0                  1                0  ...                         1.0   \n",
            "1                  1             1318  ...                         1.0   \n",
            "2                  1                0  ...                         1.0   \n",
            "3                  1                0  ...                         1.0   \n",
            "4                  1                0  ...                         1.0   \n",
            "...              ...              ...  ...                         ...   \n",
            "4994               1                0  ...                         1.0   \n",
            "4995               7                0  ...                         1.0   \n",
            "4996               1                0  ...                         1.0   \n",
            "4997               1                0  ...                         1.0   \n",
            "4998               2                0  ...                         1.0   \n",
            "\n",
            "      Income source  income type     wt_final          popw  \\\n",
            "0               101         47.0  2930.107345   8790.322266   \n",
            "1               101         47.0  2930.107345   8790.322266   \n",
            "2               101         13.0  2930.107345  20510.751953   \n",
            "3               101         47.0  2930.107345   8790.322266   \n",
            "4               101         15.0  2930.107345  23440.859375   \n",
            "...             ...          ...          ...           ...   \n",
            "4994            101         47.0  2270.194622   9080.778320   \n",
            "4995            101         97.0   583.492862    583.492859   \n",
            "4996            101         47.0   583.492862   1166.985718   \n",
            "4997            101          3.0  1110.241869   6661.451172   \n",
            "4998            101         56.0  1110.241869  13322.902344   \n",
            "\n",
            "      Spending on food Items  Spending on food items purchased  \\\n",
            "0              723357.396415                     645010.092704   \n",
            "1              987095.803537                     922479.132394   \n",
            "2              935654.625567                     934895.790606   \n",
            "3              371185.526899                     371185.526899   \n",
            "4              685767.901917                     685767.901917   \n",
            "...                      ...                               ...   \n",
            "4994           282918.745850                     104546.431396   \n",
            "4995           392475.758187                      85973.585702   \n",
            "4996           132250.872777                      69021.525181   \n",
            "4997           394413.091675                     283293.787964   \n",
            "4998           554951.563232                     411207.953857   \n",
            "\n",
            "      Spending on non food items     totcons_pc  Consumption per capita  \n",
            "0                  164380.951660  295912.782692           250786.299629  \n",
            "1                  619230.439209  535442.080915           453787.554958  \n",
            "2                  660932.141479  228083.823864           193301.207443  \n",
            "3                  339276.189209  236820.572036           200705.607905  \n",
            "4                  465047.619507  143851.940178           121914.624450  \n",
            "...                          ...            ...                     ...  \n",
            "4994                97692.304565   95152.762604            93417.077061  \n",
            "4995               199019.132812  591494.891000           562049.147749  \n",
            "4996               228330.295654  180290.584215           171315.375242  \n",
            "4997               278515.000000  112154.681946           106571.408076  \n",
            "4998               225167.539795   65009.925252            61773.607244  \n",
            "\n",
            "[4148 rows x 25 columns]\n",
            "\n",
            "Count of outliers in each column:\n",
            "hhid                                   0\n",
            "sector                                 0\n",
            "zone                                   0\n",
            "state                                  0\n",
            "lga                                    0\n",
            "Gender                               857\n",
            "Educational Level                     71\n",
            "hhsize                               132\n",
            "Marital status                      1167\n",
            "Occupation type                      867\n",
            "Year of birth                         12\n",
            "Housing Types                       1006\n",
            "Roofing materia                     1547\n",
            "Cookstove type                        43\n",
            "Access to electricity                  0\n",
            "Main Source of Electricity           259\n",
            "Income source                          0\n",
            "income type                         1613\n",
            "wt_final                             320\n",
            "popw                                 291\n",
            "Spending on food Items               210\n",
            "Spending on food items purchased     216\n",
            "Spending on non food items           337\n",
            "totcons_pc                           314\n",
            "Consumption per capita               302\n",
            "dtype: int64\n"
          ]
        }
      ]
    },
    {
      "cell_type": "code",
      "source": [
        "# Remove rows with outliers\n",
        "df_cleaned = df[~outliers.any(axis=1)]  # ~ is the negation operator (to remove outliers)\n",
        "\n",
        "# Display cleaned data\n",
        "print(\"\\nCleaned Data without Outliers:\")\n",
        "print(df_cleaned.head())"
      ],
      "metadata": {
        "colab": {
          "base_uri": "https://localhost:8080/"
        },
        "id": "InzNTTswTM0o",
        "outputId": "79a65f0e-9539-4b5f-f10e-9afbfb50509b"
      },
      "execution_count": 29,
      "outputs": [
        {
          "output_type": "stream",
          "name": "stdout",
          "text": [
            "\n",
            "Cleaned Data without Outliers:\n",
            "      hhid  sector  zone  state  lga  Gender  Educational Level  hhsize  \\\n",
            "23  115107       2     4      1  115       1                  6       4   \n",
            "34  107048       2     4      1  107       1                  2       3   \n",
            "42  107045       2     4      1  107       1                 13       2   \n",
            "46  115105       2     4      1  115       1                  6       4   \n",
            "47  117150       2     4      1  117       1                  6       7   \n",
            "\n",
            "    Marital status  Occupation type  ...  Main Source of Electricity  \\\n",
            "23               1                0  ...                         1.0   \n",
            "34               1                0  ...                         1.0   \n",
            "42               1                0  ...                         1.0   \n",
            "46               1                0  ...                         1.0   \n",
            "47               1                0  ...                         1.0   \n",
            "\n",
            "    Income source  income type     wt_final          popw  \\\n",
            "23            101         47.0  1837.216107   7348.864258   \n",
            "34            101         47.0  1712.288937   5136.866699   \n",
            "42            101         47.0  1712.288937   3424.577881   \n",
            "46            101         47.0  1837.216107   7348.864258   \n",
            "47            101         47.0  1457.414397  10201.900391   \n",
            "\n",
            "    Spending on food Items  Spending on food items purchased  \\\n",
            "23            2.593246e+05                     227811.267247   \n",
            "34            3.767493e+05                     285119.139051   \n",
            "42            3.064261e+05                     168259.094269   \n",
            "46            4.720353e+05                     398135.257167   \n",
            "47            1.042326e+06                     788187.992728   \n",
            "\n",
            "    Spending on non food items     totcons_pc  Consumption per capita  \n",
            "23               229691.636475  122254.057473           113274.766167  \n",
            "34               439427.751709  272059.015670           252076.880070  \n",
            "42               104810.287109  205618.196854           190515.993086  \n",
            "46               878315.538818  337587.720542           312792.645869  \n",
            "47               897776.411377  277157.517062           256800.907762  \n",
            "\n",
            "[5 rows x 25 columns]\n"
          ]
        }
      ]
    },
    {
      "cell_type": "code",
      "source": [
        " # Define the poverty line threshold\n",
        "poverty_line = 137430  # Define the poverty line"
      ],
      "metadata": {
        "id": "LAuLb64SynD8"
      },
      "execution_count": 30,
      "outputs": []
    },
    {
      "cell_type": "code",
      "source": [
        "#Classify house hold as poor (1) and non Poor(0) based on total consumption per capital\n",
        "df['poor'] = (df[\"Consumption per capita\"] < poverty_line).astype(int)"
      ],
      "metadata": {
        "id": "K8Ch8Bn4zEnd"
      },
      "execution_count": 32,
      "outputs": []
    },
    {
      "cell_type": "code",
      "source": [
        "# Select relevant features for predicting poverty\n",
        "X=df[['hhsize', 'Income source', 'Educational Level', 'Spending on food Items', 'Spending on non food items']]\n",
        "y=df['poor']"
      ],
      "metadata": {
        "id": "h4QhqDRXzuAp"
      },
      "execution_count": 33,
      "outputs": []
    },
    {
      "cell_type": "code",
      "source": [
        "# Correct the feature list by removing the trailing comma\n",
        "X = df[['hhsize', 'Income source', 'Educational Level', 'Spending on food Items', 'Spending on non food items']]\n"
      ],
      "metadata": {
        "id": "zCB3I5oi7Y2P"
      },
      "execution_count": 34,
      "outputs": []
    },
    {
      "cell_type": "code",
      "source": [
        "# Step 4: Split the data into training and testing sets (80% train, 20% test)\n",
        "X_train, X_test, y_train, y_test = train_test_split(X, y, test_size=0.2, random_state=42)"
      ],
      "metadata": {
        "id": "TMaQdqmf1CIF"
      },
      "execution_count": 35,
      "outputs": []
    },
    {
      "cell_type": "code",
      "source": [
        "# Step 5: Train the model (Random Forest)\n",
        "model = RandomForestClassifier(n_estimators=100, random_state=42)\n",
        "model.fit(X_train, y_train)"
      ],
      "metadata": {
        "colab": {
          "base_uri": "https://localhost:8080/",
          "height": 80
        },
        "id": "I9d68tis28CH",
        "outputId": "29375c82-dbed-4ae3-ce71-05770f61c20b"
      },
      "execution_count": 36,
      "outputs": [
        {
          "output_type": "execute_result",
          "data": {
            "text/plain": [
              "RandomForestClassifier(random_state=42)"
            ],
            "text/html": [
              "<style>#sk-container-id-1 {\n",
              "  /* Definition of color scheme common for light and dark mode */\n",
              "  --sklearn-color-text: #000;\n",
              "  --sklearn-color-text-muted: #666;\n",
              "  --sklearn-color-line: gray;\n",
              "  /* Definition of color scheme for unfitted estimators */\n",
              "  --sklearn-color-unfitted-level-0: #fff5e6;\n",
              "  --sklearn-color-unfitted-level-1: #f6e4d2;\n",
              "  --sklearn-color-unfitted-level-2: #ffe0b3;\n",
              "  --sklearn-color-unfitted-level-3: chocolate;\n",
              "  /* Definition of color scheme for fitted estimators */\n",
              "  --sklearn-color-fitted-level-0: #f0f8ff;\n",
              "  --sklearn-color-fitted-level-1: #d4ebff;\n",
              "  --sklearn-color-fitted-level-2: #b3dbfd;\n",
              "  --sklearn-color-fitted-level-3: cornflowerblue;\n",
              "\n",
              "  /* Specific color for light theme */\n",
              "  --sklearn-color-text-on-default-background: var(--sg-text-color, var(--theme-code-foreground, var(--jp-content-font-color1, black)));\n",
              "  --sklearn-color-background: var(--sg-background-color, var(--theme-background, var(--jp-layout-color0, white)));\n",
              "  --sklearn-color-border-box: var(--sg-text-color, var(--theme-code-foreground, var(--jp-content-font-color1, black)));\n",
              "  --sklearn-color-icon: #696969;\n",
              "\n",
              "  @media (prefers-color-scheme: dark) {\n",
              "    /* Redefinition of color scheme for dark theme */\n",
              "    --sklearn-color-text-on-default-background: var(--sg-text-color, var(--theme-code-foreground, var(--jp-content-font-color1, white)));\n",
              "    --sklearn-color-background: var(--sg-background-color, var(--theme-background, var(--jp-layout-color0, #111)));\n",
              "    --sklearn-color-border-box: var(--sg-text-color, var(--theme-code-foreground, var(--jp-content-font-color1, white)));\n",
              "    --sklearn-color-icon: #878787;\n",
              "  }\n",
              "}\n",
              "\n",
              "#sk-container-id-1 {\n",
              "  color: var(--sklearn-color-text);\n",
              "}\n",
              "\n",
              "#sk-container-id-1 pre {\n",
              "  padding: 0;\n",
              "}\n",
              "\n",
              "#sk-container-id-1 input.sk-hidden--visually {\n",
              "  border: 0;\n",
              "  clip: rect(1px 1px 1px 1px);\n",
              "  clip: rect(1px, 1px, 1px, 1px);\n",
              "  height: 1px;\n",
              "  margin: -1px;\n",
              "  overflow: hidden;\n",
              "  padding: 0;\n",
              "  position: absolute;\n",
              "  width: 1px;\n",
              "}\n",
              "\n",
              "#sk-container-id-1 div.sk-dashed-wrapped {\n",
              "  border: 1px dashed var(--sklearn-color-line);\n",
              "  margin: 0 0.4em 0.5em 0.4em;\n",
              "  box-sizing: border-box;\n",
              "  padding-bottom: 0.4em;\n",
              "  background-color: var(--sklearn-color-background);\n",
              "}\n",
              "\n",
              "#sk-container-id-1 div.sk-container {\n",
              "  /* jupyter's `normalize.less` sets `[hidden] { display: none; }`\n",
              "     but bootstrap.min.css set `[hidden] { display: none !important; }`\n",
              "     so we also need the `!important` here to be able to override the\n",
              "     default hidden behavior on the sphinx rendered scikit-learn.org.\n",
              "     See: https://github.com/scikit-learn/scikit-learn/issues/21755 */\n",
              "  display: inline-block !important;\n",
              "  position: relative;\n",
              "}\n",
              "\n",
              "#sk-container-id-1 div.sk-text-repr-fallback {\n",
              "  display: none;\n",
              "}\n",
              "\n",
              "div.sk-parallel-item,\n",
              "div.sk-serial,\n",
              "div.sk-item {\n",
              "  /* draw centered vertical line to link estimators */\n",
              "  background-image: linear-gradient(var(--sklearn-color-text-on-default-background), var(--sklearn-color-text-on-default-background));\n",
              "  background-size: 2px 100%;\n",
              "  background-repeat: no-repeat;\n",
              "  background-position: center center;\n",
              "}\n",
              "\n",
              "/* Parallel-specific style estimator block */\n",
              "\n",
              "#sk-container-id-1 div.sk-parallel-item::after {\n",
              "  content: \"\";\n",
              "  width: 100%;\n",
              "  border-bottom: 2px solid var(--sklearn-color-text-on-default-background);\n",
              "  flex-grow: 1;\n",
              "}\n",
              "\n",
              "#sk-container-id-1 div.sk-parallel {\n",
              "  display: flex;\n",
              "  align-items: stretch;\n",
              "  justify-content: center;\n",
              "  background-color: var(--sklearn-color-background);\n",
              "  position: relative;\n",
              "}\n",
              "\n",
              "#sk-container-id-1 div.sk-parallel-item {\n",
              "  display: flex;\n",
              "  flex-direction: column;\n",
              "}\n",
              "\n",
              "#sk-container-id-1 div.sk-parallel-item:first-child::after {\n",
              "  align-self: flex-end;\n",
              "  width: 50%;\n",
              "}\n",
              "\n",
              "#sk-container-id-1 div.sk-parallel-item:last-child::after {\n",
              "  align-self: flex-start;\n",
              "  width: 50%;\n",
              "}\n",
              "\n",
              "#sk-container-id-1 div.sk-parallel-item:only-child::after {\n",
              "  width: 0;\n",
              "}\n",
              "\n",
              "/* Serial-specific style estimator block */\n",
              "\n",
              "#sk-container-id-1 div.sk-serial {\n",
              "  display: flex;\n",
              "  flex-direction: column;\n",
              "  align-items: center;\n",
              "  background-color: var(--sklearn-color-background);\n",
              "  padding-right: 1em;\n",
              "  padding-left: 1em;\n",
              "}\n",
              "\n",
              "\n",
              "/* Toggleable style: style used for estimator/Pipeline/ColumnTransformer box that is\n",
              "clickable and can be expanded/collapsed.\n",
              "- Pipeline and ColumnTransformer use this feature and define the default style\n",
              "- Estimators will overwrite some part of the style using the `sk-estimator` class\n",
              "*/\n",
              "\n",
              "/* Pipeline and ColumnTransformer style (default) */\n",
              "\n",
              "#sk-container-id-1 div.sk-toggleable {\n",
              "  /* Default theme specific background. It is overwritten whether we have a\n",
              "  specific estimator or a Pipeline/ColumnTransformer */\n",
              "  background-color: var(--sklearn-color-background);\n",
              "}\n",
              "\n",
              "/* Toggleable label */\n",
              "#sk-container-id-1 label.sk-toggleable__label {\n",
              "  cursor: pointer;\n",
              "  display: flex;\n",
              "  width: 100%;\n",
              "  margin-bottom: 0;\n",
              "  padding: 0.5em;\n",
              "  box-sizing: border-box;\n",
              "  text-align: center;\n",
              "  align-items: start;\n",
              "  justify-content: space-between;\n",
              "  gap: 0.5em;\n",
              "}\n",
              "\n",
              "#sk-container-id-1 label.sk-toggleable__label .caption {\n",
              "  font-size: 0.6rem;\n",
              "  font-weight: lighter;\n",
              "  color: var(--sklearn-color-text-muted);\n",
              "}\n",
              "\n",
              "#sk-container-id-1 label.sk-toggleable__label-arrow:before {\n",
              "  /* Arrow on the left of the label */\n",
              "  content: \"▸\";\n",
              "  float: left;\n",
              "  margin-right: 0.25em;\n",
              "  color: var(--sklearn-color-icon);\n",
              "}\n",
              "\n",
              "#sk-container-id-1 label.sk-toggleable__label-arrow:hover:before {\n",
              "  color: var(--sklearn-color-text);\n",
              "}\n",
              "\n",
              "/* Toggleable content - dropdown */\n",
              "\n",
              "#sk-container-id-1 div.sk-toggleable__content {\n",
              "  max-height: 0;\n",
              "  max-width: 0;\n",
              "  overflow: hidden;\n",
              "  text-align: left;\n",
              "  /* unfitted */\n",
              "  background-color: var(--sklearn-color-unfitted-level-0);\n",
              "}\n",
              "\n",
              "#sk-container-id-1 div.sk-toggleable__content.fitted {\n",
              "  /* fitted */\n",
              "  background-color: var(--sklearn-color-fitted-level-0);\n",
              "}\n",
              "\n",
              "#sk-container-id-1 div.sk-toggleable__content pre {\n",
              "  margin: 0.2em;\n",
              "  border-radius: 0.25em;\n",
              "  color: var(--sklearn-color-text);\n",
              "  /* unfitted */\n",
              "  background-color: var(--sklearn-color-unfitted-level-0);\n",
              "}\n",
              "\n",
              "#sk-container-id-1 div.sk-toggleable__content.fitted pre {\n",
              "  /* unfitted */\n",
              "  background-color: var(--sklearn-color-fitted-level-0);\n",
              "}\n",
              "\n",
              "#sk-container-id-1 input.sk-toggleable__control:checked~div.sk-toggleable__content {\n",
              "  /* Expand drop-down */\n",
              "  max-height: 200px;\n",
              "  max-width: 100%;\n",
              "  overflow: auto;\n",
              "}\n",
              "\n",
              "#sk-container-id-1 input.sk-toggleable__control:checked~label.sk-toggleable__label-arrow:before {\n",
              "  content: \"▾\";\n",
              "}\n",
              "\n",
              "/* Pipeline/ColumnTransformer-specific style */\n",
              "\n",
              "#sk-container-id-1 div.sk-label input.sk-toggleable__control:checked~label.sk-toggleable__label {\n",
              "  color: var(--sklearn-color-text);\n",
              "  background-color: var(--sklearn-color-unfitted-level-2);\n",
              "}\n",
              "\n",
              "#sk-container-id-1 div.sk-label.fitted input.sk-toggleable__control:checked~label.sk-toggleable__label {\n",
              "  background-color: var(--sklearn-color-fitted-level-2);\n",
              "}\n",
              "\n",
              "/* Estimator-specific style */\n",
              "\n",
              "/* Colorize estimator box */\n",
              "#sk-container-id-1 div.sk-estimator input.sk-toggleable__control:checked~label.sk-toggleable__label {\n",
              "  /* unfitted */\n",
              "  background-color: var(--sklearn-color-unfitted-level-2);\n",
              "}\n",
              "\n",
              "#sk-container-id-1 div.sk-estimator.fitted input.sk-toggleable__control:checked~label.sk-toggleable__label {\n",
              "  /* fitted */\n",
              "  background-color: var(--sklearn-color-fitted-level-2);\n",
              "}\n",
              "\n",
              "#sk-container-id-1 div.sk-label label.sk-toggleable__label,\n",
              "#sk-container-id-1 div.sk-label label {\n",
              "  /* The background is the default theme color */\n",
              "  color: var(--sklearn-color-text-on-default-background);\n",
              "}\n",
              "\n",
              "/* On hover, darken the color of the background */\n",
              "#sk-container-id-1 div.sk-label:hover label.sk-toggleable__label {\n",
              "  color: var(--sklearn-color-text);\n",
              "  background-color: var(--sklearn-color-unfitted-level-2);\n",
              "}\n",
              "\n",
              "/* Label box, darken color on hover, fitted */\n",
              "#sk-container-id-1 div.sk-label.fitted:hover label.sk-toggleable__label.fitted {\n",
              "  color: var(--sklearn-color-text);\n",
              "  background-color: var(--sklearn-color-fitted-level-2);\n",
              "}\n",
              "\n",
              "/* Estimator label */\n",
              "\n",
              "#sk-container-id-1 div.sk-label label {\n",
              "  font-family: monospace;\n",
              "  font-weight: bold;\n",
              "  display: inline-block;\n",
              "  line-height: 1.2em;\n",
              "}\n",
              "\n",
              "#sk-container-id-1 div.sk-label-container {\n",
              "  text-align: center;\n",
              "}\n",
              "\n",
              "/* Estimator-specific */\n",
              "#sk-container-id-1 div.sk-estimator {\n",
              "  font-family: monospace;\n",
              "  border: 1px dotted var(--sklearn-color-border-box);\n",
              "  border-radius: 0.25em;\n",
              "  box-sizing: border-box;\n",
              "  margin-bottom: 0.5em;\n",
              "  /* unfitted */\n",
              "  background-color: var(--sklearn-color-unfitted-level-0);\n",
              "}\n",
              "\n",
              "#sk-container-id-1 div.sk-estimator.fitted {\n",
              "  /* fitted */\n",
              "  background-color: var(--sklearn-color-fitted-level-0);\n",
              "}\n",
              "\n",
              "/* on hover */\n",
              "#sk-container-id-1 div.sk-estimator:hover {\n",
              "  /* unfitted */\n",
              "  background-color: var(--sklearn-color-unfitted-level-2);\n",
              "}\n",
              "\n",
              "#sk-container-id-1 div.sk-estimator.fitted:hover {\n",
              "  /* fitted */\n",
              "  background-color: var(--sklearn-color-fitted-level-2);\n",
              "}\n",
              "\n",
              "/* Specification for estimator info (e.g. \"i\" and \"?\") */\n",
              "\n",
              "/* Common style for \"i\" and \"?\" */\n",
              "\n",
              ".sk-estimator-doc-link,\n",
              "a:link.sk-estimator-doc-link,\n",
              "a:visited.sk-estimator-doc-link {\n",
              "  float: right;\n",
              "  font-size: smaller;\n",
              "  line-height: 1em;\n",
              "  font-family: monospace;\n",
              "  background-color: var(--sklearn-color-background);\n",
              "  border-radius: 1em;\n",
              "  height: 1em;\n",
              "  width: 1em;\n",
              "  text-decoration: none !important;\n",
              "  margin-left: 0.5em;\n",
              "  text-align: center;\n",
              "  /* unfitted */\n",
              "  border: var(--sklearn-color-unfitted-level-1) 1pt solid;\n",
              "  color: var(--sklearn-color-unfitted-level-1);\n",
              "}\n",
              "\n",
              ".sk-estimator-doc-link.fitted,\n",
              "a:link.sk-estimator-doc-link.fitted,\n",
              "a:visited.sk-estimator-doc-link.fitted {\n",
              "  /* fitted */\n",
              "  border: var(--sklearn-color-fitted-level-1) 1pt solid;\n",
              "  color: var(--sklearn-color-fitted-level-1);\n",
              "}\n",
              "\n",
              "/* On hover */\n",
              "div.sk-estimator:hover .sk-estimator-doc-link:hover,\n",
              ".sk-estimator-doc-link:hover,\n",
              "div.sk-label-container:hover .sk-estimator-doc-link:hover,\n",
              ".sk-estimator-doc-link:hover {\n",
              "  /* unfitted */\n",
              "  background-color: var(--sklearn-color-unfitted-level-3);\n",
              "  color: var(--sklearn-color-background);\n",
              "  text-decoration: none;\n",
              "}\n",
              "\n",
              "div.sk-estimator.fitted:hover .sk-estimator-doc-link.fitted:hover,\n",
              ".sk-estimator-doc-link.fitted:hover,\n",
              "div.sk-label-container:hover .sk-estimator-doc-link.fitted:hover,\n",
              ".sk-estimator-doc-link.fitted:hover {\n",
              "  /* fitted */\n",
              "  background-color: var(--sklearn-color-fitted-level-3);\n",
              "  color: var(--sklearn-color-background);\n",
              "  text-decoration: none;\n",
              "}\n",
              "\n",
              "/* Span, style for the box shown on hovering the info icon */\n",
              ".sk-estimator-doc-link span {\n",
              "  display: none;\n",
              "  z-index: 9999;\n",
              "  position: relative;\n",
              "  font-weight: normal;\n",
              "  right: .2ex;\n",
              "  padding: .5ex;\n",
              "  margin: .5ex;\n",
              "  width: min-content;\n",
              "  min-width: 20ex;\n",
              "  max-width: 50ex;\n",
              "  color: var(--sklearn-color-text);\n",
              "  box-shadow: 2pt 2pt 4pt #999;\n",
              "  /* unfitted */\n",
              "  background: var(--sklearn-color-unfitted-level-0);\n",
              "  border: .5pt solid var(--sklearn-color-unfitted-level-3);\n",
              "}\n",
              "\n",
              ".sk-estimator-doc-link.fitted span {\n",
              "  /* fitted */\n",
              "  background: var(--sklearn-color-fitted-level-0);\n",
              "  border: var(--sklearn-color-fitted-level-3);\n",
              "}\n",
              "\n",
              ".sk-estimator-doc-link:hover span {\n",
              "  display: block;\n",
              "}\n",
              "\n",
              "/* \"?\"-specific style due to the `<a>` HTML tag */\n",
              "\n",
              "#sk-container-id-1 a.estimator_doc_link {\n",
              "  float: right;\n",
              "  font-size: 1rem;\n",
              "  line-height: 1em;\n",
              "  font-family: monospace;\n",
              "  background-color: var(--sklearn-color-background);\n",
              "  border-radius: 1rem;\n",
              "  height: 1rem;\n",
              "  width: 1rem;\n",
              "  text-decoration: none;\n",
              "  /* unfitted */\n",
              "  color: var(--sklearn-color-unfitted-level-1);\n",
              "  border: var(--sklearn-color-unfitted-level-1) 1pt solid;\n",
              "}\n",
              "\n",
              "#sk-container-id-1 a.estimator_doc_link.fitted {\n",
              "  /* fitted */\n",
              "  border: var(--sklearn-color-fitted-level-1) 1pt solid;\n",
              "  color: var(--sklearn-color-fitted-level-1);\n",
              "}\n",
              "\n",
              "/* On hover */\n",
              "#sk-container-id-1 a.estimator_doc_link:hover {\n",
              "  /* unfitted */\n",
              "  background-color: var(--sklearn-color-unfitted-level-3);\n",
              "  color: var(--sklearn-color-background);\n",
              "  text-decoration: none;\n",
              "}\n",
              "\n",
              "#sk-container-id-1 a.estimator_doc_link.fitted:hover {\n",
              "  /* fitted */\n",
              "  background-color: var(--sklearn-color-fitted-level-3);\n",
              "}\n",
              "</style><div id=\"sk-container-id-1\" class=\"sk-top-container\"><div class=\"sk-text-repr-fallback\"><pre>RandomForestClassifier(random_state=42)</pre><b>In a Jupyter environment, please rerun this cell to show the HTML representation or trust the notebook. <br />On GitHub, the HTML representation is unable to render, please try loading this page with nbviewer.org.</b></div><div class=\"sk-container\" hidden><div class=\"sk-item\"><div class=\"sk-estimator fitted sk-toggleable\"><input class=\"sk-toggleable__control sk-hidden--visually\" id=\"sk-estimator-id-1\" type=\"checkbox\" checked><label for=\"sk-estimator-id-1\" class=\"sk-toggleable__label fitted sk-toggleable__label-arrow\"><div><div>RandomForestClassifier</div></div><div><a class=\"sk-estimator-doc-link fitted\" rel=\"noreferrer\" target=\"_blank\" href=\"https://scikit-learn.org/1.6/modules/generated/sklearn.ensemble.RandomForestClassifier.html\">?<span>Documentation for RandomForestClassifier</span></a><span class=\"sk-estimator-doc-link fitted\">i<span>Fitted</span></span></div></label><div class=\"sk-toggleable__content fitted\"><pre>RandomForestClassifier(random_state=42)</pre></div> </div></div></div></div>"
            ]
          },
          "metadata": {},
          "execution_count": 36
        }
      ]
    },
    {
      "cell_type": "code",
      "source": [
        "# Step 6: Evaluate the model performance\n",
        "y_pred = model.predict(X_test)"
      ],
      "metadata": {
        "id": "cN_asMK_3A6-"
      },
      "execution_count": 37,
      "outputs": []
    },
    {
      "cell_type": "code",
      "source": [
        "# Calculate performance metrics\n",
        "accuracy = accuracy_score(y_test, y_pred)\n",
        "precision = precision_score(y_test, y_pred)\n",
        "recall = recall_score(y_test, y_pred)\n",
        "f1 = f1_score(y_test, y_pred)\n",
        "conf_matrix = confusion_matrix(y_test, y_pred)\n"
      ],
      "metadata": {
        "id": "Or_2UoI47-SR"
      },
      "execution_count": 38,
      "outputs": []
    },
    {
      "cell_type": "code",
      "source": [
        "print(\"Model Evaluation:\")\n",
        "print(f\"Accuracy: {accuracy:.4f}\")\n",
        "print(f\"Precision: {precision:.4f}\")\n",
        "print(f\"Recall: {recall:.4f}\")\n",
        "print(f\"F1-Score: {f1:.4f}\")\n",
        "print(\"Confusion Matrix:\")\n",
        "print(conf_matrix)"
      ],
      "metadata": {
        "colab": {
          "base_uri": "https://localhost:8080/"
        },
        "id": "sB6BQxW38DrS",
        "outputId": "cd88124b-3f57-4573-9639-e7b01f137369"
      },
      "execution_count": 39,
      "outputs": [
        {
          "output_type": "stream",
          "name": "stdout",
          "text": [
            "Model Evaluation:\n",
            "Accuracy: 0.9560\n",
            "Precision: 0.9379\n",
            "Recall: 0.9199\n",
            "F1-Score: 0.9288\n",
            "Confusion Matrix:\n",
            "[[669  19]\n",
            " [ 25 287]]\n"
          ]
        }
      ]
    },
    {
      "cell_type": "code",
      "source": [
        "def get_user_input_and_predict():\n",
        "    # Accept user input for relevant features\n",
        "    print(\"\\nEnter the details of the household to predict the poverty:\")\n",
        "    hhsize = int(input(\"Enter household size: \"))  # Collect input for household size\n",
        "    income_source = int(input(\"Enter income source (numeric value): \"))  # Collect input for income source\n",
        "    educational_level = int(input(\"Enter educational level (numeric value): \"))  # Collect input for education level\n",
        "    spending_food = float(input(\"Enter spending on food items: \"))  # Collect input for food spending\n",
        "    spending_non_food = float(input(\"Enter spending on non-food items: \"))  # Collect input for non-food spending\n",
        "    return pd.DataFrame([[hhsize, income_source, educational_level, spending_food, spending_non_food]],\n",
        "                        columns=['hhsize', 'Income source', 'Educational Level', 'Spending on food Items', 'Spending on non food items'])\n"
      ],
      "metadata": {
        "id": "C-9fYEfl96N9"
      },
      "execution_count": 40,
      "outputs": []
    },
    {
      "cell_type": "code",
      "source": [
        "user_input = get_user_input_and_predict()"
      ],
      "metadata": {
        "colab": {
          "base_uri": "https://localhost:8080/"
        },
        "id": "xP5PdFZAjS-9",
        "outputId": "9e56db0f-efba-41a4-93ff-f4567642cd4e"
      },
      "execution_count": 41,
      "outputs": [
        {
          "name": "stdout",
          "output_type": "stream",
          "text": [
            "\n",
            "Enter the details of the household to predict the poverty:\n",
            "Enter household size: 5\n",
            "Enter income source (numeric value): 100000\n",
            "Enter educational level (numeric value): 5\n",
            "Enter spending on food items: 10000\n",
            "Enter spending on non-food items: 30000\n"
          ]
        }
      ]
    },
    {
      "cell_type": "code",
      "source": [
        "print(user_input)"
      ],
      "metadata": {
        "colab": {
          "base_uri": "https://localhost:8080/"
        },
        "id": "pZyV_sbylPMk",
        "outputId": "c2e0aeb8-7dae-432a-c3ad-b3a81f4e6e35"
      },
      "execution_count": 19,
      "outputs": [
        {
          "output_type": "stream",
          "name": "stdout",
          "text": [
            "   hhsize  Income source  Educational Level  Spending on food Items  \\\n",
            "0       8           2000                  4                  3000.0   \n",
            "\n",
            "   Spending on non food items  \n",
            "0                      4000.0  \n"
          ]
        }
      ]
    },
    {
      "cell_type": "code",
      "source": [
        "# Predict using the trained model\n",
        "def predict_poverty(user_input):\n",
        "    prediction = model.predict(user_input)\n",
        "    prediction = prediction[0]\n",
        "    print(prediction)\n",
        "    if prediction == 1:\n",
        "        print(\"The household is predicted to be BELOW the poverty line (Poor).\")\n",
        "    else:\n",
        "        print(\"The household is predicted to be ABOVE the poverty line (Not Poor).\")\n"
      ],
      "metadata": {
        "id": "EAt50yWG-WT2"
      },
      "execution_count": 42,
      "outputs": []
    },
    {
      "cell_type": "code",
      "source": [
        "predict_poverty(user_input)"
      ],
      "metadata": {
        "colab": {
          "base_uri": "https://localhost:8080/"
        },
        "id": "ZvXPi4rjoLBp",
        "outputId": "daa6c35f-c56c-48e3-a0c0-8ee629da6b96"
      },
      "execution_count": 43,
      "outputs": [
        {
          "output_type": "stream",
          "name": "stdout",
          "text": [
            "1\n",
            "The household is predicted to be BELOW the poverty line (Poor).\n"
          ]
        }
      ]
    }
  ]
}